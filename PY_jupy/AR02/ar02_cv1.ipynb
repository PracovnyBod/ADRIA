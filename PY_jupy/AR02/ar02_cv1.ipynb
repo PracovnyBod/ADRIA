{
 "cells": [
  {
   "cell_type": "markdown",
   "metadata": {},
   "source": [
    "# Cvičenie prvé [AR02]"
   ]
  },
  {
   "cell_type": "markdown",
   "metadata": {},
   "source": [
    "Uvažujme riadený systém v tvare\n",
    "$$ \n",
    "\t\\begin{equation*}\n",
    "\t\t\\dot{x}(t) = a\\, x(t) + b \\, u(t) \n",
    "\t\\end{equation*} \n",
    "$$\n",
    "kde $x(t)$ je stavová veličina systému, $u(t)$ je akčný zásah (výstup) regulátora. Parameter $b = 1$ a parameter $a$ je neznáma konštanta."
   ]
  },
  {
   "cell_type": "markdown",
   "metadata": {},
   "source": [
    "## Úloha 1\n",
    "\n",
    "Vyššie uvedený riadený systém je dynamický systém prvého rádu. Zodpovedajúca prenosová funkcia je $G(s) = \\frac{1}{(s-a)}$. Charakteristický polymóm systému potom je v tvare $(s-a)$ a jeho koreňom je $a$. Pre $a<0$ bude systém stabilný, pre $a>0$ nestabilný a pre $a=0$ hovoríme o systéme na hranici stability. Zosilnenie systému má číselnú hodnotu $\\frac{1}{a}$ a časová konštanta systému má číselnú hotnotu $\\frac{1}{a}$.\n",
    "\n",
    "Takýmto dynamickým systémom je možné opísať napríklad nabíjanie kondenzátora (elektrickým nábojom). Prípadne pri $a=0$ ide v tomto prípade o integrátor, a teda príkladom z reality je výška hladiny v nádrži bez prirodzeného odtoku."
   ]
  },
  {
   "cell_type": "markdown",
   "metadata": {},
   "source": [
    "## Úloha 2\n",
    "\n",
    "Simulovať predmetný dynamický systém v tomto prípade znamená hľadať numerické riešenie diferenciálnej rovnice, ktorá daný systém opisuje. Pri tom je nutné využiť informáciu o $x(0)$ (začiatočný stav) a o $u(t)$ (vstupný signál).\n",
    "\n",
    "Budeme používať ODE solver."
   ]
  },
  {
   "cell_type": "markdown",
   "metadata": {},
   "source": [
    "Preto definujme funkciu, ktorá bude pre potreby ODE solvera realizivať predmetnú diferenciálnu rovnicu. Teda:"
   ]
  },
  {
   "cell_type": "code",
   "execution_count": 15,
   "metadata": {},
   "outputs": [],
   "source": [
    "def fcn_difRovnice_01(x, t, a, u):\n",
    "\n",
    "    dotx = a*x + u\n",
    "\n",
    "    return dotx"
   ]
  },
  {
   "cell_type": "markdown",
   "metadata": {},
   "source": [
    "ODE solver potrebuje v princípe tri informácie. Funkciu, ktorú sme práve zadefinovali, začiatočný stav veličiny (veličín), ktorej časový priebeh hľadáme a časový interval alebo časové hodnoty, v ktorých chceme poznať hodnoty numerického riešenia.\n",
    "\n",
    "Stanovme začiatočný stav signálu $x(0)$, ktorú použijeme v simulácii:"
   ]
  },
  {
   "cell_type": "code",
   "execution_count": 16,
   "metadata": {},
   "outputs": [],
   "source": [
    "sim_x_0 = 1"
   ]
  },
  {
   "cell_type": "markdown",
   "metadata": {},
   "source": [
    "Ďalej stanovme časový interval, pre ktorý chceme vykonať simuláciu:"
   ]
  },
  {
   "cell_type": "code",
   "execution_count": 17,
   "metadata": {},
   "outputs": [],
   "source": [
    "sim_t_start = 0\n",
    "sim_t_final = 5"
   ]
  },
  {
   "cell_type": "markdown",
   "metadata": {},
   "source": [
    "Ďalej uvážme, že v (simulovanom) dynamickom systéme potrebujeme poznať aj hodnoty parametra $a$ a signálu $u(t)$. Najednoduchšie by bolo, ak by sme tieto hodnoty stanovili ako konštanty. V prípade parametra $a$ by to bolo celkom prirodzené, že o ňom uvažujeme ako o konštante. "
   ]
  },
  {
   "cell_type": "code",
   "execution_count": 18,
   "metadata": {},
   "outputs": [],
   "source": [
    "param_a = -1"
   ]
  },
  {
   "cell_type": "markdown",
   "metadata": {},
   "source": [
    "V prípade signálu $u(t)$ by ale mohlo byť nevyhovujúce ak by sme ho považovali za konštantný počas celého času simulácie. Čo ak by sme chceli simulovať rozne honoty signálu $u(t)$ v rôznom čase?\n",
    "\n",
    "Povedzme, že by sme chceli mať možnosť zmeniť hodnotu signálu $u(t)$ každých 0,05 sekúnd (napríklad). Z istého pohľadu by sme mohli mať teda ako by „periódu vzorkovania“ z akou chceme byť schopný zmeniť napríklad signál $u(t)$. Stanovme túto kvázi periódu a vypočítajme počet potrebných „krokov“ na prejdenie celého časového intervalu  (<code>sim_finalIndex</code>)"
   ]
  },
  {
   "cell_type": "code",
   "execution_count": 19,
   "metadata": {},
   "outputs": [],
   "source": [
    "sim_T_s = 0.05\n",
    "sim_finalIndex = int(((sim_t_final - sim_t_start)/sim_T_s) + 1)"
   ]
  },
  {
   "cell_type": "markdown",
   "metadata": {},
   "source": [
    "Vzhľadom na uvedené zadefinujme signál $u(t)$ pomocou nasledujúcej tabuľky, kde prvý stĺpec nech je čas, v ktorom signál nadobudne hodnotu uvedenú v druhom stĺpci (a ostane na tejto hodnote)."
   ]
  },
  {
   "cell_type": "code",
   "execution_count": 20,
   "metadata": {},
   "outputs": [],
   "source": [
    "import numpy as np # budeme používať knžnicu NumPy\n",
    "\n",
    "tab_sig_u = np.array([\n",
    "        [0, 0],\n",
    "        [3, 1],\n",
    "])"
   ]
  },
  {
   "cell_type": "markdown",
   "metadata": {},
   "source": [
    "Inicializujme pole (ako nulové hodnoty), ktoré bude obsahovať hodnoty samotného signálu a postupne priraďme do poľa hodnoty zodpvedajúce uvedenej tabuľke:"
   ]
  },
  {
   "cell_type": "code",
   "execution_count": 21,
   "metadata": {},
   "outputs": [
    {
     "name": "stdout",
     "output_type": "stream",
     "text": [
      "[0. 0. 0. 0. 0. 0. 0. 0. 0. 0. 0. 0. 0. 0. 0. 0. 0. 0. 0. 0. 0. 0. 0. 0.\n",
      " 0. 0. 0. 0. 0. 0. 0. 0. 0. 0. 0. 0. 0. 0. 0. 0. 0. 0. 0. 0. 0. 0. 0. 0.\n",
      " 0. 0. 0. 0. 0. 0. 0. 0. 0. 0. 0. 0. 1. 1. 1. 1. 1. 1. 1. 1. 1. 1. 1. 1.\n",
      " 1. 1. 1. 1. 1. 1. 1. 1. 1. 1. 1. 1. 1. 1. 1. 1. 1. 1. 1. 1. 1. 1. 1. 1.\n",
      " 1. 1. 1. 1. 1.]\n"
     ]
    }
   ],
   "source": [
    "def tab_to_sig(tab, T_s, finalIndex):\n",
    "\n",
    "    sig = np.zeros([finalIndex, 1])\n",
    "\n",
    "    for idx in range(sig.shape[0]):\n",
    "        lastValue = tab[:,1][tab[:,0]<=idx*T_s][-1]\n",
    "        sig[idx] = lastValue\n",
    "\n",
    "    return(sig)\n",
    "\n",
    "sig_u = tab_to_sig(tab_sig_u, sim_T_s, sim_finalIndex)\n",
    "\n",
    "print(sig_u[:,0]) # Ilustračne vyprintnime v kompaktnom tvare"
   ]
  },
  {
   "cell_type": "markdown",
   "metadata": {},
   "source": [
    "Prislúchajúci časový vektor (k signálu $u(t)$) samozrejme je:"
   ]
  },
  {
   "cell_type": "code",
   "execution_count": 22,
   "metadata": {},
   "outputs": [
    {
     "name": "stdout",
     "output_type": "stream",
     "text": [
      "[0.   0.05 0.1  0.15 0.2  0.25 0.3  0.35 0.4  0.45 0.5  0.55 0.6  0.65\n",
      " 0.7  0.75 0.8  0.85 0.9  0.95 1.   1.05 1.1  1.15 1.2  1.25 1.3  1.35\n",
      " 1.4  1.45 1.5  1.55 1.6  1.65 1.7  1.75 1.8  1.85 1.9  1.95 2.   2.05\n",
      " 2.1  2.15 2.2  2.25 2.3  2.35 2.4  2.45 2.5  2.55 2.6  2.65 2.7  2.75\n",
      " 2.8  2.85 2.9  2.95 3.   3.05 3.1  3.15 3.2  3.25 3.3  3.35 3.4  3.45\n",
      " 3.5  3.55 3.6  3.65 3.7  3.75 3.8  3.85 3.9  3.95 4.   4.05 4.1  4.15\n",
      " 4.2  4.25 4.3  4.35 4.4  4.45 4.5  4.55 4.6  4.65 4.7  4.75 4.8  4.85\n",
      " 4.9  4.95 5.  ]\n"
     ]
    }
   ],
   "source": [
    "timeVector = np.arange(sim_t_start, sim_t_final + sim_T_s, sim_T_s)\n",
    "\n",
    "print(timeVector)"
   ]
  },
  {
   "cell_type": "markdown",
   "metadata": {},
   "source": [
    "Pre názornosť, vykreslime signál $u(t)$:"
   ]
  },
  {
   "cell_type": "code",
   "execution_count": 23,
   "metadata": {},
   "outputs": [
    {
     "data": {
      "image/png": "[encoded data removed]",
      "text/plain": [
       "<Figure size 432x288 with 1 Axes>"
      ]
     },
     "metadata": {
      "needs_background": "light"
     },
     "output_type": "display_data"
    }
   ],
   "source": [
    "import matplotlib.pyplot as plt\n",
    "\n",
    "plt.plot(timeVector, sig_u, '.', ms=2)\n",
    "plt.ylabel('$u(t)$')\n",
    "plt.xlabel('čas')\n",
    "plt.show()"
   ]
  },
  {
   "cell_type": "markdown",
   "metadata": {},
   "source": [
    "##### Volanie ODE solvera\n",
    "\n",
    "V tomto bode môžeme pristúpiť k tomu, že použijeme ODE solver.\n",
    "\n",
    "Avšak, ODE solver nebudeme volať pre celý časový interval naraz. Budeme ho volať/používať postupne po „krokoch“, po malých časových úsekoch, pre ktoré máme (pre každý jeden) definované hodnoty vstupného signálu $u(t)$ (a samozrejme máme všetky ostatné potrebné informácie).\n",
    "\n",
    "ODE solver budeme volať vo for cykle, a počet cyklov bude (<code>sim_finalIndex</code>). Zostavme funkciu, ktorá to všetko zrealizuje:"
   ]
  },
  {
   "cell_type": "code",
   "execution_count": 24,
   "metadata": {},
   "outputs": [],
   "source": [
    "from scipy.integrate import odeint\n",
    "\n",
    "def fcn_simSch_00(t_start, T_s, finalIndex, x_0, param_a, sig_u):\n",
    "\n",
    "    #-----------------------------------------\n",
    "    # casovy vektor (pole), jeho inicializacia a zapisanie zaciatocnej hodnoty\n",
    "\n",
    "    t_log = np.zeros([finalIndex, 1]) \n",
    "    t_log[0,:] = t_start\n",
    "\n",
    "    #-----------------------------------------\n",
    "    # vektor stavu dynamickeho systemu \n",
    "\n",
    "    x_0 = np.array([x_0]) # zac. podmienka zapisana do pola\n",
    "\n",
    "    x_log = np.zeros([finalIndex, len(x_0)])\n",
    "    x_log[0,:] = x_0\n",
    "\n",
    "    #-----------------------------------------\n",
    "\n",
    "    timespan = np.zeros(2)\n",
    "    for idx in range(1, int(finalIndex)):\n",
    "\n",
    "        #-------------------------------------\n",
    "        # Volanie ODEsolvera na casovom rozsahu zapisanom v timespan (od-do)\n",
    "\n",
    "        timespan[0] = t_log[idx-1,:]\n",
    "        timespan[1] = t_log[idx-1,:] + T_s\n",
    "\n",
    "        odeOut = odeint(fcn_difRovnice_01,\n",
    "                        x_log[idx-1,:],\n",
    "                        timespan,\n",
    "                        args=(param_a, sig_u[idx-1,:])\n",
    "                        )\n",
    "\n",
    "        x_log[idx,:] = odeOut[-1,:]\n",
    "        t_log[idx,:] = timespan[-1]\n",
    "\n",
    "    return [t_log, x_log]"
   ]
  },
  {
   "cell_type": "markdown",
   "metadata": {},
   "source": [
    "Zavolajme funkciu realizujúcu požadovanú simulačú schému."
   ]
  },
  {
   "cell_type": "code",
   "execution_count": 25,
   "metadata": {},
   "outputs": [],
   "source": [
    "# Simulacia\n",
    "t_log, x_log, = fcn_simSch_00(\n",
    "    sim_t_start,\n",
    "    sim_T_s,\n",
    "    sim_finalIndex,\n",
    "    sim_x_0,\n",
    "    param_a, \n",
    "    sig_u,\n",
    ")"
   ]
  },
  {
   "cell_type": "markdown",
   "metadata": {},
   "source": [
    "Vykreslime výsledok:"
   ]
  },
  {
   "cell_type": "code",
   "execution_count": 26,
   "metadata": {},
   "outputs": [
    {
     "data": {
      "image/png": "[encoded data removed]",
      "text/plain": [
       "<Figure size 432x288 with 1 Axes>"
      ]
     },
     "metadata": {
      "needs_background": "light"
     },
     "output_type": "display_data"
    }
   ],
   "source": [
    "plt.plot(t_log, x_log, '.', ms=2)\n",
    "plt.ylabel('$x(t)$')\n",
    "plt.xlabel('čas')\n",
    "plt.show()"
   ]
  },
  {
   "cell_type": "markdown",
   "metadata": {},
   "source": [
    "Je zrejmé, že do času 3, kým je signál $u(t)$ nulový, veličina $x(t)$ klesá zo začiatočnej hodnoty do rovnovážneho stavu, a potom, od času 3, systém reaguje na nenulový vstup $u(t)$."
   ]
  },
  {
   "cell_type": "markdown",
   "metadata": {},
   "source": [
    "##### Simulácia podľa úlohy 2\n",
    "V úlohe 2 sa požaduje $u(t) = 0$, tak zmeňme:"
   ]
  },
  {
   "cell_type": "code",
   "execution_count": 27,
   "metadata": {},
   "outputs": [
    {
     "data": {
      "image/png": "[encoded data removed]",
      "text/plain": [
       "<Figure size 432x288 with 1 Axes>"
      ]
     },
     "metadata": {
      "needs_background": "light"
     },
     "output_type": "display_data"
    }
   ],
   "source": [
    "tab_sig_u = np.array([\n",
    "        [0, 0],\n",
    "])\n",
    "\n",
    "sig_u = tab_to_sig(tab_sig_u, sim_T_s, sim_finalIndex)\n",
    "\n",
    "\n",
    "t_log, x_log, = fcn_simSch_00(\n",
    "    sim_t_start,\n",
    "    sim_T_s,\n",
    "    sim_finalIndex,\n",
    "    sim_x_0,\n",
    "    param_a, \n",
    "    sig_u,\n",
    ")\n",
    "\n",
    "plt.plot(t_log, x_log, '.', ms=2)\n",
    "plt.ylabel('$x(t)$')\n",
    "plt.xlabel('čas')\n",
    "plt.show()"
   ]
  },
  {
   "cell_type": "markdown",
   "metadata": {},
   "source": [
    "...čím sme vyriešili úlohu 2."
   ]
  }
 ],
 "metadata": {
  "kernelspec": {
   "display_name": "Python 3",
   "language": "python",
   "name": "python3"
  },
  "language_info": {
   "codemirror_mode": {
    "name": "ipython",
    "version": 3
   },
   "file_extension": ".py",
   "mimetype": "text/x-python",
   "name": "python",
   "nbconvert_exporter": "python",
   "pygments_lexer": "ipython3",
   "version": "3.7.10"
  }
 },
 "nbformat": 4,
 "nbformat_minor": 2
}
